{
 "cells": [
  {
   "cell_type": "markdown",
   "metadata": {},
   "source": [
    "## Basic neural Network implementation using pytorch"
   ]
  },
  {
   "cell_type": "code",
   "execution_count": 31,
   "metadata": {},
   "outputs": [],
   "source": [
    "# General imports\n",
    "from pathlib import Path\n",
    "import pickle\n",
    "import numpy as np\n",
    "import pandas as pd\n",
    "import matplotlib.pyplot as plt\n",
    "import seaborn as sns\n",
    "import torch\n",
    "import torch.nn as nn\n",
    "import torch.nn.functional as F\n",
    "from tqdm.auto import tqdm\n",
    "\n",
    "# Enable reproducibility\n",
    "torch.manual_seed(0)\n",
    "#torch.set_deterministic(True)\n",
    "\n",
    "# Create solution folder\n",
    "Path(\"results/\").mkdir(exist_ok=True)"
   ]
  },
  {
   "cell_type": "markdown",
   "metadata": {},
   "source": [
    "## Data Preprocessing\n",
    "### a) Dataset Loading"
   ]
  },
  {
   "cell_type": "code",
   "execution_count": 32,
   "metadata": {},
   "outputs": [],
   "source": [
    "# Read CSV file\n",
    "df = pd.read_csv(\"energy-weather.csv\")\n",
    "\n"
   ]
  },
  {
   "cell_type": "markdown",
   "metadata": {},
   "source": [
    "### b) Filtering"
   ]
  },
  {
   "cell_type": "code",
   "execution_count": 34,
   "metadata": {},
   "outputs": [
    {
     "data": {
      "image/png": "[encoded data removed]",
      "text/plain": [
       "<Figure size 432x288 with 1 Axes>"
      ]
     },
     "metadata": {
      "needs_background": "light"
     },
     "output_type": "display_data"
    }
   ],
   "source": [
    "# Show histogram of pressure\n",
    "sns.histplot(data=df[\"pressure\"], discrete=True)\n",
    "plt.axvline(1050, c=\"black\", linestyle=\"dashed\",linewidth=1)\n",
    "plt.tight_layout()"
   ]
  },
  {
   "cell_type": "code",
   "execution_count": 35,
   "metadata": {},
   "outputs": [],
   "source": [
    "# Remove outliers from the data set\n",
    "df_filtered = df.drop(df.index[df[\"pressure\"] > 1050 ])\n",
    "df_filtered = df_filtered.drop(df_filtered.index[df_filtered[\"wind_speed\"] > 30])\n"
   ]
  },
  {
   "cell_type": "code",
   "execution_count": 36,
   "metadata": {},
   "outputs": [
    {
     "data": {
      "image/png": "[encoded data removed]",
      "text/plain": [
       "<Figure size 432x288 with 1 Axes>"
      ]
     },
     "metadata": {
      "needs_background": "light"
     },
     "output_type": "display_data"
    }
   ],
   "source": [
    "sns.histplot(data=df_filtered[\"pressure\"], discrete=True)\n",
    "plt.axvline(1050, c=\"black\", linestyle=\"dashed\",linewidth=1)\n",
    "plt.tight_layout()"
   ]
  },
  {
   "cell_type": "markdown",
   "metadata": {},
   "source": [
    "### c) Additional features"
   ]
  },
  {
   "cell_type": "code",
   "execution_count": 38,
   "metadata": {},
   "outputs": [
    {
     "data": {
      "text/html": [
       "<div>\n",
       "<style scoped>\n",
       "    .dataframe tbody tr th:only-of-type {\n",
       "        vertical-align: middle;\n",
       "    }\n",
       "\n",
       "    .dataframe tbody tr th {\n",
       "        vertical-align: top;\n",
       "    }\n",
       "\n",
       "    .dataframe thead th {\n",
       "        text-align: right;\n",
       "    }\n",
       "</style>\n",
       "<table border=\"1\" class=\"dataframe\">\n",
       "  <thead>\n",
       "    <tr style=\"text-align: right;\">\n",
       "      <th></th>\n",
       "      <th>time</th>\n",
       "      <th>temperature</th>\n",
       "      <th>pressure</th>\n",
       "      <th>humidity</th>\n",
       "      <th>wind_speed</th>\n",
       "      <th>wind_deg</th>\n",
       "      <th>rain_1h</th>\n",
       "      <th>clouds_all</th>\n",
       "      <th>generation_solar</th>\n",
       "    </tr>\n",
       "  </thead>\n",
       "  <tbody>\n",
       "    <tr>\n",
       "      <th>0</th>\n",
       "      <td>2015-01-01 00:00:00</td>\n",
       "      <td>270.475</td>\n",
       "      <td>1001</td>\n",
       "      <td>77</td>\n",
       "      <td>1</td>\n",
       "      <td>62</td>\n",
       "      <td>0.0</td>\n",
       "      <td>0</td>\n",
       "      <td>49.0</td>\n",
       "    </tr>\n",
       "    <tr>\n",
       "      <th>1</th>\n",
       "      <td>2015-01-01 01:00:00</td>\n",
       "      <td>270.475</td>\n",
       "      <td>1001</td>\n",
       "      <td>77</td>\n",
       "      <td>1</td>\n",
       "      <td>62</td>\n",
       "      <td>0.0</td>\n",
       "      <td>0</td>\n",
       "      <td>50.0</td>\n",
       "    </tr>\n",
       "    <tr>\n",
       "      <th>2</th>\n",
       "      <td>2015-01-01 02:00:00</td>\n",
       "      <td>269.686</td>\n",
       "      <td>1002</td>\n",
       "      <td>78</td>\n",
       "      <td>0</td>\n",
       "      <td>23</td>\n",
       "      <td>0.0</td>\n",
       "      <td>0</td>\n",
       "      <td>50.0</td>\n",
       "    </tr>\n",
       "    <tr>\n",
       "      <th>3</th>\n",
       "      <td>2015-01-01 03:00:00</td>\n",
       "      <td>269.686</td>\n",
       "      <td>1002</td>\n",
       "      <td>78</td>\n",
       "      <td>0</td>\n",
       "      <td>23</td>\n",
       "      <td>0.0</td>\n",
       "      <td>0</td>\n",
       "      <td>50.0</td>\n",
       "    </tr>\n",
       "    <tr>\n",
       "      <th>4</th>\n",
       "      <td>2015-01-01 04:00:00</td>\n",
       "      <td>269.686</td>\n",
       "      <td>1002</td>\n",
       "      <td>78</td>\n",
       "      <td>0</td>\n",
       "      <td>23</td>\n",
       "      <td>0.0</td>\n",
       "      <td>0</td>\n",
       "      <td>42.0</td>\n",
       "    </tr>\n",
       "  </tbody>\n",
       "</table>\n",
       "</div>"
      ],
      "text/plain": [
       "                  time  temperature  pressure  humidity  wind_speed  wind_deg  \\\n",
       "0  2015-01-01 00:00:00      270.475      1001        77           1        62   \n",
       "1  2015-01-01 01:00:00      270.475      1001        77           1        62   \n",
       "2  2015-01-01 02:00:00      269.686      1002        78           0        23   \n",
       "3  2015-01-01 03:00:00      269.686      1002        78           0        23   \n",
       "4  2015-01-01 04:00:00      269.686      1002        78           0        23   \n",
       "\n",
       "   rain_1h  clouds_all  generation_solar  \n",
       "0      0.0           0              49.0  \n",
       "1      0.0           0              50.0  \n",
       "2      0.0           0              50.0  \n",
       "3      0.0           0              50.0  \n",
       "4      0.0           0              42.0  "
      ]
     },
     "execution_count": 38,
     "metadata": {},
     "output_type": "execute_result"
    }
   ],
   "source": [
    "df_filtered.head()"
   ]
  },
  {
   "cell_type": "code",
   "execution_count": 39,
   "metadata": {},
   "outputs": [
    {
     "data": {
      "text/html": [
       "<div>\n",
       "<style scoped>\n",
       "    .dataframe tbody tr th:only-of-type {\n",
       "        vertical-align: middle;\n",
       "    }\n",
       "\n",
       "    .dataframe tbody tr th {\n",
       "        vertical-align: top;\n",
       "    }\n",
       "\n",
       "    .dataframe thead th {\n",
       "        text-align: right;\n",
       "    }\n",
       "</style>\n",
       "<table border=\"1\" class=\"dataframe\">\n",
       "  <thead>\n",
       "    <tr style=\"text-align: right;\">\n",
       "      <th></th>\n",
       "      <th>time</th>\n",
       "      <th>temperature</th>\n",
       "      <th>pressure</th>\n",
       "      <th>humidity</th>\n",
       "      <th>wind_speed</th>\n",
       "      <th>wind_deg</th>\n",
       "      <th>rain_1h</th>\n",
       "      <th>clouds_all</th>\n",
       "      <th>generation_solar</th>\n",
       "      <th>day</th>\n",
       "      <th>generation_solar_categorical</th>\n",
       "    </tr>\n",
       "  </thead>\n",
       "  <tbody>\n",
       "    <tr>\n",
       "      <th>30041</th>\n",
       "      <td>2018-12-31 19:00:00</td>\n",
       "      <td>285.64</td>\n",
       "      <td>1028</td>\n",
       "      <td>62</td>\n",
       "      <td>2</td>\n",
       "      <td>140</td>\n",
       "      <td>0.0</td>\n",
       "      <td>0</td>\n",
       "      <td>85.0</td>\n",
       "      <td>365</td>\n",
       "      <td>low</td>\n",
       "    </tr>\n",
       "    <tr>\n",
       "      <th>30042</th>\n",
       "      <td>2018-12-31 20:00:00</td>\n",
       "      <td>283.14</td>\n",
       "      <td>1029</td>\n",
       "      <td>71</td>\n",
       "      <td>1</td>\n",
       "      <td>242</td>\n",
       "      <td>0.0</td>\n",
       "      <td>0</td>\n",
       "      <td>33.0</td>\n",
       "      <td>365</td>\n",
       "      <td>low</td>\n",
       "    </tr>\n",
       "    <tr>\n",
       "      <th>30043</th>\n",
       "      <td>2018-12-31 21:00:00</td>\n",
       "      <td>281.66</td>\n",
       "      <td>1029</td>\n",
       "      <td>81</td>\n",
       "      <td>3</td>\n",
       "      <td>300</td>\n",
       "      <td>0.0</td>\n",
       "      <td>0</td>\n",
       "      <td>31.0</td>\n",
       "      <td>365</td>\n",
       "      <td>low</td>\n",
       "    </tr>\n",
       "    <tr>\n",
       "      <th>30044</th>\n",
       "      <td>2018-12-31 22:00:00</td>\n",
       "      <td>280.14</td>\n",
       "      <td>1029</td>\n",
       "      <td>81</td>\n",
       "      <td>2</td>\n",
       "      <td>310</td>\n",
       "      <td>0.0</td>\n",
       "      <td>0</td>\n",
       "      <td>31.0</td>\n",
       "      <td>365</td>\n",
       "      <td>low</td>\n",
       "    </tr>\n",
       "    <tr>\n",
       "      <th>30045</th>\n",
       "      <td>2018-12-31 23:00:00</td>\n",
       "      <td>279.14</td>\n",
       "      <td>1029</td>\n",
       "      <td>75</td>\n",
       "      <td>2</td>\n",
       "      <td>300</td>\n",
       "      <td>0.0</td>\n",
       "      <td>0</td>\n",
       "      <td>31.0</td>\n",
       "      <td>365</td>\n",
       "      <td>low</td>\n",
       "    </tr>\n",
       "  </tbody>\n",
       "</table>\n",
       "</div>"
      ],
      "text/plain": [
       "                      time  temperature  pressure  humidity  wind_speed  \\\n",
       "30041  2018-12-31 19:00:00       285.64      1028        62           2   \n",
       "30042  2018-12-31 20:00:00       283.14      1029        71           1   \n",
       "30043  2018-12-31 21:00:00       281.66      1029        81           3   \n",
       "30044  2018-12-31 22:00:00       280.14      1029        81           2   \n",
       "30045  2018-12-31 23:00:00       279.14      1029        75           2   \n",
       "\n",
       "       wind_deg  rain_1h  clouds_all  generation_solar  day  \\\n",
       "30041       140      0.0           0              85.0  365   \n",
       "30042       242      0.0           0              33.0  365   \n",
       "30043       300      0.0           0              31.0  365   \n",
       "30044       310      0.0           0              31.0  365   \n",
       "30045       300      0.0           0              31.0  365   \n",
       "\n",
       "      generation_solar_categorical  \n",
       "30041                          low  \n",
       "30042                          low  \n",
       "30043                          low  \n",
       "30044                          low  \n",
       "30045                          low  "
      ]
     },
     "execution_count": 39,
     "metadata": {},
     "output_type": "execute_result"
    }
   ],
   "source": [
    "# Introduce day feature\n",
    "\n",
    "df_filtered.loc[:, \"day\"] = pd.to_datetime(df_filtered[\"time\"]).dt.dayofyear\n",
    "\n",
    "#df_filtered.head()\n",
    "\n",
    "\n",
    "\n",
    "# Introduce generation_solar_categorical feature\n",
    "# df_filtered.loc[:, \"generation_solar_categorical\"] =\n",
    "\n",
    "\n",
    "\n",
    "generation_solar_categorical = []\n",
    "\n",
    "for i in df_filtered.generation_solar:\n",
    "    if i < 160:\n",
    "        generation_solar_categorical.append(\"low\")\n",
    "    elif i >= 160 and i < 1600:\n",
    "        generation_solar_categorical.append(\"medium\")\n",
    "    elif i >= 1600:\n",
    "        generation_solar_categorical.append(\"high\")\n",
    "df_filtered.loc[:, \"generation_solar_categorical\"] = generation_solar_categorical\n",
    "\n",
    "df_filtered.tail()\n",
    "         \n"
   ]
  },
  {
   "cell_type": "markdown",
   "metadata": {},
   "source": [
    "### d) Normalize Data"
   ]
  },
  {
   "cell_type": "code",
   "execution_count": 41,
   "metadata": {},
   "outputs": [
    {
     "data": {
      "text/html": [
       "<div>\n",
       "<style scoped>\n",
       "    .dataframe tbody tr th:only-of-type {\n",
       "        vertical-align: middle;\n",
       "    }\n",
       "\n",
       "    .dataframe tbody tr th {\n",
       "        vertical-align: top;\n",
       "    }\n",
       "\n",
       "    .dataframe thead th {\n",
       "        text-align: right;\n",
       "    }\n",
       "</style>\n",
       "<table border=\"1\" class=\"dataframe\">\n",
       "  <thead>\n",
       "    <tr style=\"text-align: right;\">\n",
       "      <th></th>\n",
       "      <th>time</th>\n",
       "      <th>temperature</th>\n",
       "      <th>pressure</th>\n",
       "      <th>humidity</th>\n",
       "      <th>wind_speed</th>\n",
       "      <th>wind_deg</th>\n",
       "      <th>rain_1h</th>\n",
       "      <th>clouds_all</th>\n",
       "      <th>generation_solar</th>\n",
       "      <th>day</th>\n",
       "      <th>generation_solar_categorical</th>\n",
       "    </tr>\n",
       "  </thead>\n",
       "  <tbody>\n",
       "    <tr>\n",
       "      <th>29726</th>\n",
       "      <td>2018-12-31 19:00:00</td>\n",
       "      <td>-0.701683</td>\n",
       "      <td>1.260669</td>\n",
       "      <td>-0.160068</td>\n",
       "      <td>-0.287381</td>\n",
       "      <td>-0.168401</td>\n",
       "      <td>-0.131855</td>\n",
       "      <td>-0.813459</td>\n",
       "      <td>-0.798410</td>\n",
       "      <td>1.718137</td>\n",
       "      <td>low</td>\n",
       "    </tr>\n",
       "    <tr>\n",
       "      <th>29727</th>\n",
       "      <td>2018-12-31 20:00:00</td>\n",
       "      <td>-1.047515</td>\n",
       "      <td>1.359961</td>\n",
       "      <td>0.296755</td>\n",
       "      <td>-0.702910</td>\n",
       "      <td>0.680133</td>\n",
       "      <td>-0.131855</td>\n",
       "      <td>-0.813459</td>\n",
       "      <td>-0.829403</td>\n",
       "      <td>1.718137</td>\n",
       "      <td>low</td>\n",
       "    </tr>\n",
       "    <tr>\n",
       "      <th>29728</th>\n",
       "      <td>2018-12-31 21:00:00</td>\n",
       "      <td>-1.252247</td>\n",
       "      <td>1.359961</td>\n",
       "      <td>0.804335</td>\n",
       "      <td>0.128149</td>\n",
       "      <td>1.162633</td>\n",
       "      <td>-0.131855</td>\n",
       "      <td>-0.813459</td>\n",
       "      <td>-0.830595</td>\n",
       "      <td>1.718137</td>\n",
       "      <td>low</td>\n",
       "    </tr>\n",
       "    <tr>\n",
       "      <th>29729</th>\n",
       "      <td>2018-12-31 22:00:00</td>\n",
       "      <td>-1.462513</td>\n",
       "      <td>1.359961</td>\n",
       "      <td>0.804335</td>\n",
       "      <td>-0.287381</td>\n",
       "      <td>1.245822</td>\n",
       "      <td>-0.131855</td>\n",
       "      <td>-0.813459</td>\n",
       "      <td>-0.830595</td>\n",
       "      <td>1.718137</td>\n",
       "      <td>low</td>\n",
       "    </tr>\n",
       "    <tr>\n",
       "      <th>29730</th>\n",
       "      <td>2018-12-31 23:00:00</td>\n",
       "      <td>-1.600846</td>\n",
       "      <td>1.359961</td>\n",
       "      <td>0.499787</td>\n",
       "      <td>-0.287381</td>\n",
       "      <td>1.162633</td>\n",
       "      <td>-0.131855</td>\n",
       "      <td>-0.813459</td>\n",
       "      <td>-0.830595</td>\n",
       "      <td>1.718137</td>\n",
       "      <td>low</td>\n",
       "    </tr>\n",
       "  </tbody>\n",
       "</table>\n",
       "</div>"
      ],
      "text/plain": [
       "                      time  temperature  pressure  humidity  wind_speed  \\\n",
       "29726  2018-12-31 19:00:00    -0.701683  1.260669 -0.160068   -0.287381   \n",
       "29727  2018-12-31 20:00:00    -1.047515  1.359961  0.296755   -0.702910   \n",
       "29728  2018-12-31 21:00:00    -1.252247  1.359961  0.804335    0.128149   \n",
       "29729  2018-12-31 22:00:00    -1.462513  1.359961  0.804335   -0.287381   \n",
       "29730  2018-12-31 23:00:00    -1.600846  1.359961  0.499787   -0.287381   \n",
       "\n",
       "       wind_deg   rain_1h  clouds_all  generation_solar       day  \\\n",
       "29726 -0.168401 -0.131855   -0.813459         -0.798410  1.718137   \n",
       "29727  0.680133 -0.131855   -0.813459         -0.829403  1.718137   \n",
       "29728  1.162633 -0.131855   -0.813459         -0.830595  1.718137   \n",
       "29729  1.245822 -0.131855   -0.813459         -0.830595  1.718137   \n",
       "29730  1.162633 -0.131855   -0.813459         -0.830595  1.718137   \n",
       "\n",
       "      generation_solar_categorical  \n",
       "29726                          low  \n",
       "29727                          low  \n",
       "29728                          low  \n",
       "29729                          low  \n",
       "29730                          low  "
      ]
     },
     "execution_count": 41,
     "metadata": {},
     "output_type": "execute_result"
    }
   ],
   "source": [
    "# Standardize the dataset\n",
    "from sklearn.preprocessing import StandardScaler\n",
    "\n",
    "df_norm = df_filtered.loc[:,[\"temperature\", \"pressure\", \"humidity\", \"wind_speed\", \"wind_deg\", \"rain_1h\", \"clouds_all\",\"generation_solar\", \"day\"]\n",
    "    ]\n",
    " \n",
    "scaler = StandardScaler()\n",
    "df_1=pd.DataFrame(scaler.fit_transform(df_norm), columns=df_norm.columns)\n",
    "\n",
    "req_col = [\"temperature\", \"pressure\", \"humidity\", \"wind_speed\", \"wind_deg\", \"rain_1h\", \"clouds_all\",\"generation_solar\", \"day\"]\n",
    "req_df = df_filtered.copy()\n",
    "req_df.loc[:, req_col] = df_1.values\n",
    "req_df = req_df.reset_index(drop=True)\n",
    "df_filtered = req_df\n",
    "req_df.tail()\n",
    "\n"
   ]
  },
  {
   "cell_type": "markdown",
   "metadata": {},
   "source": [
    "### e) Train/Validation split"
   ]
  },
  {
   "cell_type": "code",
   "execution_count": 43,
   "metadata": {},
   "outputs": [
    {
     "name": "stdout",
     "output_type": "stream",
     "text": [
      "29731\n",
      "26757\n",
      "2974\n"
     ]
    }
   ],
   "source": [
    "# Train-validation split\n",
    "from sklearn.model_selection import train_test_split\n",
    "df_train, df_val = train_test_split(df_filtered, test_size=0.1)\n",
    "print(len(df_filtered))\n",
    "print(len(df_train))\n",
    "print(len(df_val))"
   ]
  },
  {
   "cell_type": "markdown",
   "metadata": {},
   "source": [
    "##  Modelling with PyTorch"
   ]
  },
  {
   "cell_type": "code",
   "execution_count": 45,
   "metadata": {},
   "outputs": [],
   "source": [
    "# Build data loaders for PyTorch\n",
    "import torch.optim as optim\n",
    "from torch.utils.data import TensorDataset, DataLoader\n",
    "\n",
    "predictors = [\"day\", \"temperature\", \"pressure\", \"humidity\", \"wind_speed\", \"wind_deg\", \"rain_1h\", \"clouds_all\"]\n",
    "\n",
    "x_train = torch.tensor(df_train[predictors].values,  dtype=torch.float)\n",
    "x_val = torch.tensor(df_val[predictors].values,  dtype=torch.float)\n",
    "\n",
    "y_train = torch.tensor(df_train[[\"generation_solar\"]].values,  dtype=torch.float)\n",
    "y_val = torch.tensor(df_val[[\"generation_solar\"]].values,  dtype=torch.float)\n",
    "\n",
    "\n",
    "y_train_cat = torch.tensor(pd.Series(df_train[\"generation_solar_categorical\"], dtype=\"category\").cat.codes.values.copy(),  dtype=torch.int64)\n",
    "y_val_cat = torch.tensor(pd.Series(df_val[\"generation_solar_categorical\"], dtype=\"category\").cat.codes.values.copy(),  dtype=torch.int64)\n",
    "\n",
    "\n",
    "# For regression\n",
    "dataset = TensorDataset(x_train, y_train)\n",
    "\n",
    "# For classification\n",
    "dataset_cat = TensorDataset(x_train, y_train_cat)"
   ]
  },
  {
   "cell_type": "markdown",
   "metadata": {},
   "source": [
    "### a) Build a network"
   ]
  },
  {
   "cell_type": "code",
   "execution_count": 46,
   "metadata": {},
   "outputs": [],
   "source": [
    "class Net(nn.Module):\n",
    "    def __init__(self):\n",
    "        super(Net, self).__init__()\n",
    "        # Create layers\n",
    "        self.inp = nn.Linear(8, 10)\n",
    "        self.hd1 = nn.Linear(10, 10)\n",
    "        self.hd2 = nn.Linear(10,1)\n",
    "\n",
    "    def forward(self, x):\n",
    "        # Implement forward pass\n",
    "        x = F.relu(self.inp(x))\n",
    "        x = F.relu(self.hd1(x))\n",
    "        x = self.hd2(x)\n",
    "        \n",
    "        return x\n",
    "\n",
    "net = Net()"
   ]
  },
  {
   "cell_type": "markdown",
   "metadata": {},
   "source": [
    "### b) Regression"
   ]
  },
  {
   "cell_type": "code",
   "execution_count": 92,
   "metadata": {},
   "outputs": [
    {
     "data": {
      "application/vnd.jupyter.widget-view+json": {
       "model_id": "bdb9f46d36604384aa9f1c62622f28af",
       "version_major": 2,
       "version_minor": 0
      },
      "text/plain": [
       "  0%|          | 0/60 [00:00<?, ?it/s]"
      ]
     },
     "metadata": {},
     "output_type": "display_data"
    },
    {
     "name": "stderr",
     "output_type": "stream",
     "text": [
      "/home/mudit/.virtualenvs/py3/lib/python3.8/site-packages/torch/serialization.py:401: UserWarning: Couldn't retrieve source code for container of type Net. It won't be checked for correctness upon loading.\n",
      "  warnings.warn(\"Couldn't retrieve source code for container of \"\n"
     ]
    },
    {
     "data": {
      "image/png": "[encoded data removed]",
      "text/plain": [
       "<Figure size 432x288 with 1 Axes>"
      ]
     },
     "metadata": {
      "needs_background": "light"
     },
     "output_type": "display_data"
    }
   ],
   "source": [
    "# Tune typerparameters \n",
    "# Hyperparameters\n",
    "learn_rate = 0.5e-4\n",
    "epochs = 60\n",
    "batch_size = 256\n",
    "\n",
    "\n",
    "\n",
    "\n",
    "class Net(nn.Module):\n",
    "    def __init__(self):\n",
    "        super(Net, self).__init__()\n",
    "        # Create layers\n",
    "        self.inp = nn.Linear(8, 100)\n",
    "        self.bn0 = nn.BatchNorm1d(100)\n",
    "        self.hd0 = nn.Linear(100, 80)\n",
    "        self.bn1 = nn.BatchNorm1d(80)\n",
    "        self.hd1 = nn.Linear(80, 40)\n",
    "        self.hd2 = nn.Linear(40, 10)        \n",
    "        self.drp = nn.Dropout(0.2)\n",
    "        self.hd3 = nn.Linear(10,1)\n",
    "\n",
    "    def forward(self, x):\n",
    "        # Implement forward pass\n",
    "        x = F.leaky_relu(self.inp(x))        \n",
    "        x = self.bn0(x)\n",
    "        #x = self.drp(x)\n",
    "        x = F.leaky_relu(self.hd0(x))\n",
    "        x = self.bn1(x)\n",
    "        x = F.leaky_relu(self.hd1(x))\n",
    "        x = F.leaky_relu(self.hd2(x))\n",
    "        x = self.hd3(x)\n",
    "        \n",
    "        return x\n",
    "net = Net()\n",
    "\n",
    "criterion = nn.MSELoss()\n",
    "optimizer = optim.Adam(net.parameters(), lr=learn_rate)\n",
    "dataloader = DataLoader(dataset, batch_size=batch_size, shuffle=True)\n",
    "\n",
    "losses = []\n",
    "with tqdm(range(epochs)) as pbar:\n",
    "    for epoch in pbar:  # loop over the dataset multiple times\n",
    "        running_loss = 0.0\n",
    "        for i, (inputs, labels) in enumerate(dataloader):\n",
    "            # zero the parameter gradients\n",
    "            optimizer.zero_grad()\n",
    "\n",
    "            # forward + backward + optimize\n",
    "            outputs = net(inputs)\n",
    "            loss = criterion(outputs, labels)\n",
    "            loss.backward()\n",
    "            optimizer.step()\n",
    "\n",
    "            # print statistics\n",
    "            running_loss += loss.item() * inputs.shape[0]\n",
    "        losses.append([running_loss / len(dataset), criterion(net(x_val), y_val).item()])\n",
    "        pbar.set_description(f\"MSE {losses[-1][0]:.02f}/{losses[-1][1]:.02f}\")\n",
    "\n",
    "# Save model\n",
    "with open(\"solution/b3b.pt\", \"wb\") as f:\n",
    "    torch.save(net, f)\n",
    "\n",
    "# Plot loss\n",
    "losses = np.array(losses)\n",
    "plt.plot(np.arange(len(losses)), losses[:,0], label=\"train\")\n",
    "plt.plot(np.arange(len(losses)), losses[:,1], label=\"validation\")\n",
    "plt.xlabel(\"epoch\")\n",
    "plt.ylabel(\"MSE\")\n",
    "plt.legend()\n",
    "plt.tight_layout()\n",
    "plt.savefig(\"results/b3b.png\")"
   ]
  },
  {
   "cell_type": "markdown",
   "metadata": {},
   "source": [
    "### c) Classification"
   ]
  },
  {
   "cell_type": "code",
   "execution_count": 97,
   "metadata": {},
   "outputs": [
    {
     "data": {
      "application/vnd.jupyter.widget-view+json": {
       "model_id": "e973f50294734d75baa56dcfbe01c20a",
       "version_major": 2,
       "version_minor": 0
      },
      "text/plain": [
       "  0%|          | 0/60 [00:00<?, ?it/s]"
      ]
     },
     "metadata": {},
     "output_type": "display_data"
    },
    {
     "name": "stderr",
     "output_type": "stream",
     "text": [
      "/home/mudit/.virtualenvs/py3/lib/python3.8/site-packages/torch/serialization.py:401: UserWarning: Couldn't retrieve source code for container of type Net. It won't be checked for correctness upon loading.\n",
      "  warnings.warn(\"Couldn't retrieve source code for container of \"\n"
     ]
    },
    {
     "data": {
      "image/png": "[encoded data removed]",
      "text/plain": [
       "<Figure size 432x288 with 1 Axes>"
      ]
     },
     "metadata": {
      "needs_background": "light"
     },
     "output_type": "display_data"
    }
   ],
   "source": [
    "# Tune typerparameters \n",
    "# Hyperparameters\n",
    "learn_rate = 1e-4\n",
    "epochs = 60\n",
    "batch_size = 256\n",
    "\n",
    "class Net(nn.Module):\n",
    "    def __init__(self):\n",
    "        super(Net, self).__init__()\n",
    "        # Create layers\n",
    "        self.inp = nn.Linear(8, 100)\n",
    "        self.bn0 = nn.BatchNorm1d(100)\n",
    "        self.hd0 = nn.Linear(100, 80)\n",
    "        self.bn1 = nn.BatchNorm1d(80)\n",
    "        self.hd1 = nn.Linear(80, 40)\n",
    "        self.hd2 = nn.Linear(40, 10)        \n",
    "        self.drp = nn.Dropout(0.3)\n",
    "        self.hd3 = nn.Linear(10,3)\n",
    "        self.softmax = nn.Softmax(dim=1)\n",
    "\n",
    "    def forward(self, x):\n",
    "        # Implement forward pass\n",
    "        x = F.leaky_relu(self.inp(x))        \n",
    "        x = self.bn0(x)\n",
    "        x = self.drp(x)\n",
    "        x = F.leaky_relu(self.hd0(x))\n",
    "        x = self.bn1(x)\n",
    "        x = F.leaky_relu(self.hd1(x))\n",
    "        x = F.leaky_relu(self.hd2(x))\n",
    "        x = self.hd3(x)\n",
    "        x = self.softmax(x)\n",
    "        \n",
    "        return x\n",
    "net = Net()\n",
    "\n",
    "net.train()\n",
    "\n",
    "criterion = nn.CrossEntropyLoss()\n",
    "optimizer = optim.Adam(net.parameters(), lr=learn_rate)\n",
    "dataloader_cat = DataLoader(dataset_cat, batch_size=batch_size, shuffle=True)\n",
    "\n",
    "losses=[]\n",
    "with tqdm(range(epochs)) as pbar:\n",
    "    for epoch in pbar:  # loop over the dataset multiple times\n",
    "        running_loss = 0.0\n",
    "        for i, (inputs, labels) in enumerate(dataloader_cat):\n",
    "            # zero the parameter gradients\n",
    "            optimizer.zero_grad()\n",
    "\n",
    "            # forward + backward + optimize\n",
    "            outputs = net(inputs)\n",
    "\n",
    "            loss = criterion(outputs, labels)\n",
    "            loss.backward()\n",
    "            optimizer.step()\n",
    "\n",
    "            # print statistics\n",
    "            running_loss += torch.sum((torch.argmax(outputs, dim=1) == labels))  # changed 2021-01-08: Fixed accuracy computation\n",
    "        losses.append([running_loss / len(dataset_cat), torch.sum((torch.argmax(net(x_val), dim=1) == y_val_cat)) / float(len(x_val))])  # changed 2021-01-08: Fixed accuracy computation\n",
    "        \n",
    "        pbar.set_description(f\"Accuracy {losses[-1][0]:.02f}/{losses[-1][1]:.02f}\")\n",
    "\n",
    "# Save model\n",
    "with open(\"results/b3c.pt\", \"wb\") as f:\n",
    "    torch.save(net, f)\n",
    "\n",
    "# Plot loss\n",
    "losses = np.array(losses)\n",
    "plt.plot(np.arange(len(losses)), losses[:,0], label=\"train\")\n",
    "plt.plot(np.arange(len(losses)), losses[:,1], label=\"validation\")\n",
    "plt.xlabel(\"epoch\")\n",
    "plt.ylabel(\"accuracy\")\n",
    "plt.legend()\n",
    "plt.tight_layout()\n",
    "plt.savefig(\"solution/b3c.png\")"
   ]
  }
 ],
 "metadata": {
  "kernelspec": {
   "display_name": "Python 3",
   "language": "python",
   "name": "python3"
  },
  "language_info": {
   "codemirror_mode": {
    "name": "ipython",
    "version": 3
   },
   "file_extension": ".py",
   "mimetype": "text/x-python",
   "name": "python",
   "nbconvert_exporter": "python",
   "pygments_lexer": "ipython3",
   "version": "3.8.5"
  }
 },
 "nbformat": 4,
 "nbformat_minor": 4
}
